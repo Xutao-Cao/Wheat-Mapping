{
 "cells": [
  {
   "cell_type": "code",
   "execution_count": 1,
   "metadata": {},
   "outputs": [
    {
     "name": "stdout",
     "output_type": "stream",
     "text": [
      "(256, 256, 8, 10)\n"
     ]
    }
   ],
   "source": [
    "import numpy as np\n",
    "x = np.load(\"./Data/All_features/1_2017_0.npy\")\n",
    "print(x.shape)"
   ]
  },
  {
   "cell_type": "code",
   "execution_count": 7,
   "metadata": {},
   "outputs": [
    {
     "name": "stdout",
     "output_type": "stream",
     "text": [
      "[1, 2, 3, 100]\n",
      "CD\n"
     ]
    }
   ],
   "source": [
    "import copy\n",
    "class A(object):\n",
    "  pass\n",
    "\n",
    "a = A()\n",
    "a.lst = [1,2,3,]\n",
    "a.str = 'CD'\n",
    "b = copy.copy(a)\n",
    "a.lst.append(100)\n",
    "a.str = 'cm'\n",
    "print(b.lst)\n",
    "print(b.str)"
   ]
  },
  {
   "cell_type": "code",
   "execution_count": 8,
   "metadata": {},
   "outputs": [
    {
     "name": "stdout",
     "output_type": "stream",
     "text": [
      "5.333333333333333\n"
     ]
    }
   ],
   "source": [
    "M =8\n",
    "a = lambda x, y:(x*M) / y\n",
    "print( a(2, 3))"
   ]
  },
  {
   "cell_type": "code",
   "execution_count": 10,
   "metadata": {},
   "outputs": [
    {
     "name": "stdout",
     "output_type": "stream",
     "text": [
      "<generator object <genexpr> at 0x00000220E3D6D660>\n"
     ]
    }
   ],
   "source": [
    "l = (i for i in range(10))\n",
    "print(l)"
   ]
  }
 ],
 "metadata": {
  "interpreter": {
   "hash": "ea3abd67aa5f34d81a32ff39bc3300858375c8b18ac46b97fff6466030ecb092"
  },
  "kernelspec": {
   "display_name": "Python 3.9.7 64-bit",
   "language": "python",
   "name": "python3"
  },
  "language_info": {
   "codemirror_mode": {
    "name": "ipython",
    "version": 3
   },
   "file_extension": ".py",
   "mimetype": "text/x-python",
   "name": "python",
   "nbconvert_exporter": "python",
   "pygments_lexer": "ipython3",
   "version": "3.9.7"
  },
  "orig_nbformat": 4
 },
 "nbformat": 4,
 "nbformat_minor": 2
}
