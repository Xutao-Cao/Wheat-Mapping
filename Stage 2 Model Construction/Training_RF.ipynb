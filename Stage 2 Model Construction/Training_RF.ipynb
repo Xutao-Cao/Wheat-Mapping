{
 "cells": [
  {
   "cell_type": "code",
   "execution_count": 1,
   "metadata": {},
   "outputs": [],
   "source": [
    "import numpy as np\n",
    "import sklearn\n",
    "from sklearn.ensemble import RandomForestClassifier\n",
    "from Utils.Dataloader import ML_dataloader\n",
    "from sklearn.model_selection import GridSearchCV\n",
    "from sklearn.model_selection import cross_val_score\n",
    "from sklearn.metrics import accuracy_score, f1_score, cohen_kappa_score\n",
    "import time\n",
    "from datetime import datetime\n",
    "%load_ext autoreload\n",
    "%autoreload 2\n",
    "RANDOM_SEED = 1234\n",
    "from Utils.Helper import train_mission"
   ]
  },
  {
   "cell_type": "code",
   "execution_count": 2,
   "metadata": {},
   "outputs": [],
   "source": [
    "train_mission_list = []\n",
    "idx = 0\n",
    "for type in ['Both','S1', 'L8', ]:\n",
    "  for site in [1, 3, 5, 7, 9]:\n",
    "    mission = train_mission(train_site=[site, ], test_site=[site, ] , idx= idx, type=type, model_name='RF')\n",
    "    train_mission_list.append(mission)\n",
    "    idx += 1"
   ]
  },
  {
   "cell_type": "code",
   "execution_count": 3,
   "metadata": {},
   "outputs": [
    {
     "name": "stdout",
     "output_type": "stream",
     "text": [
      "2022-04-29 13:48:10 Index:2, Model: RF, train_site: 5, test_site: 5, type: Both\n",
      "Loaded 67 images in site 5, year 2017\n",
      "Loaded 67 images in site 5, year 2018\n",
      "Loaded 67 images in site 5, year 2019\n",
      "Completed! Loaded 201 images in total.\n",
      "Loaded 67 images in site 5, year 2020\n",
      "Completed! Loaded 67 images in total.\n",
      "2022-04-29 20:57:28 Index:3, Model: RF, train_site: 7, test_site: 7, type: Both\n",
      "Loaded 42 images in site 7, year 2017\n",
      "Loaded 19 images in site 7, year 2018\n",
      "Loaded 42 images in site 7, year 2019\n",
      "Completed! Loaded 103 images in total.\n",
      "Loaded 42 images in site 7, year 2020\n",
      "Completed! Loaded 42 images in total.\n",
      "2022-04-30 00:14:59 Index:4, Model: RF, train_site: 9, test_site: 9, type: Both\n",
      "Loaded 42 images in site 9, year 2017\n",
      "Loaded 42 images in site 9, year 2018\n",
      "Loaded 42 images in site 9, year 2019\n",
      "Completed! Loaded 126 images in total.\n",
      "Loaded 42 images in site 9, year 2020\n",
      "Completed! Loaded 42 images in total.\n",
      "2022-04-30 04:13:09 Index:5, Model: RF, train_site: 1, test_site: 1, type: S1\n",
      "Loaded 49 images in site 1, year 2017\n",
      "Loaded 47 images in site 1, year 2018\n",
      "Loaded 49 images in site 1, year 2019\n",
      "Completed! Loaded 145 images in total.\n",
      "Loaded 49 images in site 1, year 2020\n",
      "Completed! Loaded 49 images in total.\n",
      "2022-04-30 06:55:43 Index:6, Model: RF, train_site: 3, test_site: 3, type: S1\n",
      "Loaded 49 images in site 3, year 2017\n",
      "Loaded 49 images in site 3, year 2018\n",
      "Loaded 49 images in site 3, year 2019\n",
      "Completed! Loaded 147 images in total.\n",
      "Loaded 49 images in site 3, year 2020\n",
      "Completed! Loaded 49 images in total.\n",
      "2022-04-30 09:45:09 Index:7, Model: RF, train_site: 5, test_site: 5, type: S1\n",
      "Loaded 67 images in site 5, year 2017\n",
      "Loaded 67 images in site 5, year 2018\n",
      "Loaded 67 images in site 5, year 2019\n",
      "Completed! Loaded 201 images in total.\n",
      "Loaded 67 images in site 5, year 2020\n",
      "Completed! Loaded 67 images in total.\n",
      "2022-04-30 13:40:10 Index:8, Model: RF, train_site: 7, test_site: 7, type: S1\n",
      "Loaded 42 images in site 7, year 2017\n",
      "Loaded 19 images in site 7, year 2018\n",
      "Loaded 42 images in site 7, year 2019\n",
      "Completed! Loaded 103 images in total.\n",
      "Loaded 42 images in site 7, year 2020\n",
      "Completed! Loaded 42 images in total.\n",
      "2022-04-30 15:35:32 Index:9, Model: RF, train_site: 9, test_site: 9, type: S1\n",
      "Loaded 42 images in site 9, year 2017\n",
      "Loaded 42 images in site 9, year 2018\n",
      "Loaded 42 images in site 9, year 2019\n",
      "Completed! Loaded 126 images in total.\n",
      "Loaded 42 images in site 9, year 2020\n",
      "Completed! Loaded 42 images in total.\n",
      "2022-04-30 17:57:31 Index:10, Model: RF, train_site: 1, test_site: 1, type: L8\n",
      "Loaded 49 images in site 1, year 2017\n",
      "Loaded 47 images in site 1, year 2018\n",
      "Loaded 49 images in site 1, year 2019\n",
      "Completed! Loaded 145 images in total.\n",
      "Loaded 49 images in site 1, year 2020\n",
      "Completed! Loaded 49 images in total.\n",
      "2022-04-30 21:54:16 Index:11, Model: RF, train_site: 3, test_site: 3, type: L8\n",
      "Loaded 49 images in site 3, year 2017\n",
      "Loaded 49 images in site 3, year 2018\n",
      "Loaded 49 images in site 3, year 2019\n",
      "Completed! Loaded 147 images in total.\n",
      "Loaded 49 images in site 3, year 2020\n",
      "Completed! Loaded 49 images in total.\n",
      "2022-05-01 01:45:21 Index:12, Model: RF, train_site: 5, test_site: 5, type: L8\n",
      "Loaded 67 images in site 5, year 2017\n",
      "Loaded 67 images in site 5, year 2018\n",
      "Loaded 67 images in site 5, year 2019\n",
      "Completed! Loaded 201 images in total.\n",
      "Loaded 67 images in site 5, year 2020\n",
      "Completed! Loaded 67 images in total.\n",
      "2022-05-01 07:56:11 Index:13, Model: RF, train_site: 7, test_site: 7, type: L8\n",
      "Loaded 42 images in site 7, year 2017\n",
      "Loaded 19 images in site 7, year 2018\n",
      "Loaded 42 images in site 7, year 2019\n",
      "Completed! Loaded 103 images in total.\n",
      "Loaded 42 images in site 7, year 2020\n",
      "Completed! Loaded 42 images in total.\n",
      "2022-05-01 10:46:15 Index:14, Model: RF, train_site: 9, test_site: 9, type: L8\n",
      "Loaded 42 images in site 9, year 2017\n",
      "Loaded 42 images in site 9, year 2018\n",
      "Loaded 42 images in site 9, year 2019\n",
      "Completed! Loaded 126 images in total.\n",
      "Loaded 42 images in site 9, year 2020\n",
      "Completed! Loaded 42 images in total.\n"
     ]
    }
   ],
   "source": [
    "for mission in train_mission_list:\n",
    "  if mission.index <= 1:\n",
    "    continue\n",
    "\n",
    "  mission.mission_start()\n",
    "  X_train, Y_train = ML_dataloader(sites=mission.train_site, years=mission.train_years, type=mission.type, verbose=True)\n",
    "  Y_train = Y_train.squeeze()\n",
    "  X_test, Y_test = ML_dataloader(sites=mission.test_site, years=mission.test_years, type=mission.type, verbose=True)\n",
    "  Y_test = Y_test.squeeze()\n",
    "  rf = RandomForestClassifier(n_estimators=1200, max_depth=24, random_state=RANDOM_SEED, n_jobs= 14)\n",
    "  rf.fit(X_train, Y_train)\n",
    "  X_predict_test = rf.predict(X_test)\n",
    "  X_predict_train = rf.predict(X_train)\n",
    "  mission.mission_get_score(Y_train, X_predict_train, Y_test, X_predict_test)"
   ]
  },
  {
   "cell_type": "code",
   "execution_count": 4,
   "metadata": {},
   "outputs": [],
   "source": [
    "TRAINING_DICT = {\"years\":[2017, 2018, 2019,], \"sites\":[3,], \"type\":\"Both\"}\n",
    "TESTING_DICT = {\"years\":[2020,], \"sites\":[3,], \"type\":\"Both\"}"
   ]
  },
  {
   "cell_type": "code",
   "execution_count": 5,
   "metadata": {},
   "outputs": [],
   "source": [
    "# Parameters = {\"n_estimators\":[1200, 2000], \"max_depth\":[36, None]}\n"
   ]
  },
  {
   "cell_type": "code",
   "execution_count": 6,
   "metadata": {},
   "outputs": [
    {
     "name": "stdout",
     "output_type": "stream",
     "text": [
      "Loaded 49 images in site 3, year 2017\n",
      "Loaded 49 images in site 3, year 2018\n",
      "Loaded 49 images in site 3, year 2019\n",
      "Completed! Loaded 147 images in total.\n",
      "Loaded 49 images in site 3, year 2020\n",
      "Completed! Loaded 49 images in total.\n"
     ]
    }
   ],
   "source": [
    "X_train, Y_train = ML_dataloader(sites=TRAINING_DICT[\"sites\"], years=TRAINING_DICT[\"years\"], type=TRAINING_DICT[\"type\"], verbose=True)\n",
    "Y_train = Y_train.squeeze()\n",
    "X_test, Y_test = ML_dataloader(sites=TESTING_DICT[\"sites\"], years=TESTING_DICT[\"years\"], type=TESTING_DICT[\"type\"], verbose=True)\n",
    "Y_test = Y_test.squeeze()\n",
    "\n",
    "# assert(np.any(np.isnan(X_train)) == False and np.any(np.isnan(Y_train)) == False)"
   ]
  },
  {
   "cell_type": "code",
   "execution_count": 7,
   "metadata": {},
   "outputs": [],
   "source": [
    "rf = RandomForestClassifier(n_estimators=1200, max_depth=36, random_state=RANDOM_SEED, n_jobs= 14)\n",
    "rf.fit(X_train, Y_train)\n",
    "X_predict = rf.predict(X_test)"
   ]
  },
  {
   "cell_type": "code",
   "execution_count": 8,
   "metadata": {},
   "outputs": [
    {
     "name": "stdout",
     "output_type": "stream",
     "text": [
      "acc: 0.8120, f1: 0.7970, coppa: 0.6262\n"
     ]
    }
   ],
   "source": [
    "acc = accuracy_score(Y_test, X_predict)\n",
    "f1 = f1_score(Y_test, X_predict)\n",
    "coppa = cohen_kappa_score(Y_test, X_predict)\n",
    "print(\"acc: {:.4f}, f1: {:.4f}, coppa: {:.4f}\".format(acc, f1, coppa))"
   ]
  },
  {
   "cell_type": "code",
   "execution_count": 9,
   "metadata": {},
   "outputs": [
    {
     "ename": "NameError",
     "evalue": "name 'Parameters' is not defined",
     "output_type": "error",
     "traceback": [
      "\u001b[1;31m---------------------------------------------------------------------------\u001b[0m",
      "\u001b[1;31mNameError\u001b[0m                                 Traceback (most recent call last)",
      "\u001b[1;32m~\\AppData\\Local\\Temp/ipykernel_36084/3274151409.py\u001b[0m in \u001b[0;36m<module>\u001b[1;34m\u001b[0m\n\u001b[0;32m      1\u001b[0m \u001b[0mbest_param\u001b[0m \u001b[1;33m=\u001b[0m \u001b[1;32mNone\u001b[0m\u001b[1;33m\u001b[0m\u001b[1;33m\u001b[0m\u001b[0m\n\u001b[0;32m      2\u001b[0m \u001b[0mbest_score\u001b[0m \u001b[1;33m=\u001b[0m \u001b[1;36m0.8452251565867457\u001b[0m\u001b[1;33m\u001b[0m\u001b[1;33m\u001b[0m\u001b[0m\n\u001b[1;32m----> 3\u001b[1;33m \u001b[1;32mfor\u001b[0m \u001b[0mn_estimator\u001b[0m \u001b[1;32min\u001b[0m \u001b[0mParameters\u001b[0m\u001b[1;33m[\u001b[0m\u001b[1;34m\"n_estimators\"\u001b[0m\u001b[1;33m]\u001b[0m\u001b[1;33m:\u001b[0m\u001b[1;33m\u001b[0m\u001b[1;33m\u001b[0m\u001b[0m\n\u001b[0m\u001b[0;32m      4\u001b[0m   \u001b[1;32mfor\u001b[0m \u001b[0mmax_depth\u001b[0m \u001b[1;32min\u001b[0m  \u001b[0mParameters\u001b[0m\u001b[1;33m[\u001b[0m\u001b[1;34m\"max_depth\"\u001b[0m\u001b[1;33m]\u001b[0m\u001b[1;33m:\u001b[0m\u001b[1;33m\u001b[0m\u001b[1;33m\u001b[0m\u001b[0m\n\u001b[0;32m      5\u001b[0m       \u001b[0mrf\u001b[0m \u001b[1;33m=\u001b[0m \u001b[0mRandomForestClassifier\u001b[0m\u001b[1;33m(\u001b[0m\u001b[0mn_estimators\u001b[0m\u001b[1;33m=\u001b[0m\u001b[0mn_estimator\u001b[0m\u001b[1;33m,\u001b[0m \u001b[0mmax_depth\u001b[0m\u001b[1;33m=\u001b[0m\u001b[0mmax_depth\u001b[0m\u001b[1;33m,\u001b[0m \u001b[0mrandom_state\u001b[0m\u001b[1;33m=\u001b[0m\u001b[0mRANDOM_SEED\u001b[0m\u001b[1;33m,\u001b[0m \u001b[0mn_jobs\u001b[0m\u001b[1;33m=\u001b[0m \u001b[1;36m14\u001b[0m\u001b[1;33m)\u001b[0m\u001b[1;33m\u001b[0m\u001b[1;33m\u001b[0m\u001b[0m\n",
      "\u001b[1;31mNameError\u001b[0m: name 'Parameters' is not defined"
     ]
    }
   ],
   "source": [
    "best_param = None\n",
    "best_score = 0.8452251565867457\n",
    "for n_estimator in Parameters[\"n_estimators\"]:\n",
    "  for max_depth in  Parameters[\"max_depth\"]:\n",
    "      rf = RandomForestClassifier(n_estimators=n_estimator, max_depth=max_depth, random_state=RANDOM_SEED, n_jobs= 14)\n",
    "      score = cross_val_score(rf, X_train, Y_train, cv=5)\n",
    "      mean_score = np.mean(score)\n",
    "      curr_time = datetime.now()\n",
    "\n",
    "      curr_time_str = curr_time.strftime(\"%d/%m/%Y %H:%M\")\n",
    "      print(\"{t}:   n estimator: {n}, max depth: {d}, score: {s} \".format(n= n_estimator, d=max_depth, s=mean_score, t=curr_time_str))\n",
    "      f = open(\"./Logs/rf_tuning_log.txt\",\"a\")\n",
    "      f.write(\"{t}:   n estimator: {n}, max depth: {d}, score: {s}, mean_score: {m}\\n\".format(n= n_estimator, d=max_depth, s=score, t=curr_time_str, m = mean_score))\n",
    "      f.close()\n",
    "      if mean_score > best_score:\n",
    "        print(\"======Update best score!======\")\n",
    "        best_param = (n_estimator, max_depth)\n",
    "        best_score = mean_score\n",
    "print(best_param)\n",
    "print(best_score)\n",
    "\n",
    "\n",
    "\n"
   ]
  }
 ],
 "metadata": {
  "interpreter": {
   "hash": "ea3abd67aa5f34d81a32ff39bc3300858375c8b18ac46b97fff6466030ecb092"
  },
  "kernelspec": {
   "display_name": "Python 3.9.7 64-bit",
   "language": "python",
   "name": "python3"
  },
  "language_info": {
   "codemirror_mode": {
    "name": "ipython",
    "version": 3
   },
   "file_extension": ".py",
   "mimetype": "text/x-python",
   "name": "python",
   "nbconvert_exporter": "python",
   "pygments_lexer": "ipython3",
   "version": "3.9.7"
  },
  "orig_nbformat": 4
 },
 "nbformat": 4,
 "nbformat_minor": 2
}
