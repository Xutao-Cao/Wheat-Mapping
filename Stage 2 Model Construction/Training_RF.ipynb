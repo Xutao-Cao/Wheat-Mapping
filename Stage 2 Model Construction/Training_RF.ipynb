{
 "cells": [
  {
   "cell_type": "code",
   "execution_count": 1,
   "metadata": {},
   "outputs": [],
   "source": [
    "import numpy as np\n",
    "import sklearn\n",
    "from sklearn.ensemble import RandomForestClassifier\n",
    "from Utils.Dataloader import ML_dataloader\n",
    "from sklearn.model_selection import GridSearchCV\n",
    "from sklearn.model_selection import cross_val_score\n",
    "import time\n",
    "from datetime import datetime\n",
    "RANDOM_SEED = 1234"
   ]
  },
  {
   "cell_type": "code",
   "execution_count": 2,
   "metadata": {},
   "outputs": [],
   "source": [
    "TRAINING_DICT = {\"years\":[2017, 2018, 2019,], \"sites\":[1,], \"type\":\"Both\"}\n",
    "TESTING_DICT = {\"years\":[2020,], \"sites\":[1,], \"type\":\"Both\"}"
   ]
  },
  {
   "cell_type": "code",
   "execution_count": 3,
   "metadata": {},
   "outputs": [],
   "source": [
    "Parameters = {\"n_estimators\":[100,500, 1200, 2000], \"max_depth\":[ 8, 15, 25, 36, None]}\n"
   ]
  },
  {
   "cell_type": "code",
   "execution_count": 4,
   "metadata": {},
   "outputs": [
    {
     "name": "stdout",
     "output_type": "stream",
     "text": [
      "Loaded 49 images in site 1, year 2017\n",
      "Loaded 47 images in site 1, year 2018\n",
      "Loaded 49 images in site 1, year 2019\n",
      "Completed! Loaded 145 images in total.\n",
      "X shape: (9502720, 80), Y shape: (9502720, 1)\n"
     ]
    }
   ],
   "source": [
    "X_train, Y_train = ML_dataloader(sites=TRAINING_DICT[\"sites\"], years=TRAINING_DICT[\"years\"], type=TRAINING_DICT[\"type\"], verbose=True)\n",
    "Y_train = Y_train.squeeze()\n",
    "print(\"X shape: {x_shape}, Y shape: {y_shape}\".format(x_shape = X_train.shape, y_shape = Y_train.shape))\n",
    "\n",
    "assert(np.any(np.isnan(X_train)) == False and np.any(np.isnan(Y_train)) == False)"
   ]
  },
  {
   "cell_type": "code",
   "execution_count": 5,
   "metadata": {},
   "outputs": [
    {
     "name": "stdout",
     "output_type": "stream",
     "text": [
      "Fitting 3 folds for each of 20 candidates, totalling 60 fits\n"
     ]
    },
    {
     "name": "stderr",
     "output_type": "stream",
     "text": [
      "C:\\Users\\11027\\AppData\\Local\\Programs\\Python\\Python39\\lib\\site-packages\\joblib\\externals\\loky\\process_executor.py:702: UserWarning: A worker stopped while some jobs were given to the executor. This can be caused by a too short worker timeout or by a memory leak.\n",
      "  warnings.warn(\n"
     ]
    }
   ],
   "source": [
    "\n",
    "best_param = None\n",
    "best_score = 0\n",
    "for n_estimator in Parameters[\"n_estimators\"]:\n",
    "  for max_depth in  Parameters[\"max_depth\"]:\n",
    "      rf = RandomForestClassifier(n_estimators=n_estimator, max_depth=max_depth, random_state=RANDOM_SEED, n_jobs= -2)\n",
    "      score = cross_val_score(rf, X_train, Y_train, cv=3)\n",
    "      mean_score = np.mean(score)\n",
    "      curr_time = datetime.now()\n",
    "      curr_time_str = curr_time.strftime(\"%d/%m/%Y %H:%M\")\n",
    "      print(\"{t}:   n estimator: {n}, max depth: {d}, score: {s}\".format(n= n_estimator, d=max_depth, s=mean_score, t=curr_time_str))\n",
    "      f = open(\"./Logs/rf_tuning_log.txt\",\"a\")\n",
    "      f.write(\"{t}:   n estimator: {n}, max depth: {d}, score: {s}, mean_score: {m}\\n\".format(n= n_estimator, d=max_depth, s=score, t=curr_time_str, m = mean_score))\n",
    "      f.close()\n",
    "      if score > best_score:\n",
    "        print(\"======Update best score!======\")\n",
    "        best_param = (n_estimator, max_depth)\n",
    "        best_score = score\n",
    "print(best_param)\n",
    "print(best_score)\n",
    "\n",
    "\n",
    "\n"
   ]
  }
 ],
 "metadata": {
  "interpreter": {
   "hash": "ea3abd67aa5f34d81a32ff39bc3300858375c8b18ac46b97fff6466030ecb092"
  },
  "kernelspec": {
   "display_name": "Python 3.9.7 64-bit",
   "language": "python",
   "name": "python3"
  },
  "language_info": {
   "codemirror_mode": {
    "name": "ipython",
    "version": 3
   },
   "file_extension": ".py",
   "mimetype": "text/x-python",
   "name": "python",
   "nbconvert_exporter": "python",
   "pygments_lexer": "ipython3",
   "version": "3.9.7"
  },
  "orig_nbformat": 4
 },
 "nbformat": 4,
 "nbformat_minor": 2
}
