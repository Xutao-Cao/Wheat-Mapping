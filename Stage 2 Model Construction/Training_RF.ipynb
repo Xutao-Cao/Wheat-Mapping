{
 "cells": [
  {
   "cell_type": "code",
   "execution_count": 1,
   "metadata": {},
   "outputs": [],
   "source": [
    "import numpy as np\n",
    "import sklearn\n",
    "from sklearn.ensemble import RandomForestClassifier\n",
    "from Utils.Dataloader import ML_dataloader\n",
    "from sklearn.model_selection import GridSearchCV"
   ]
  },
  {
   "cell_type": "code",
   "execution_count": 2,
   "metadata": {},
   "outputs": [],
   "source": [
    "TRAINING_DICT = {\"years\":[2017, 2018, 2019,], \"sites\":[1,], \"type\":\"Both\"}\n",
    "TESTING_DICE = {\"years\":[2020,], \"sites\":[1,], \"type\":\"Both\"}"
   ]
  },
  {
   "cell_type": "code",
   "execution_count": 3,
   "metadata": {},
   "outputs": [],
   "source": [
    "Parameters = {\"n_estimators\":[100, 300 ,500, 1200, 2000], \"max_depth\":[ 8, 15, 20, 28, 36, None]}\n"
   ]
  },
  {
   "cell_type": "code",
   "execution_count": 4,
   "metadata": {},
   "outputs": [
    {
     "name": "stdout",
     "output_type": "stream",
     "text": [
      "Loaded 49 images in site 1, year 2017\n",
      "Loaded 47 images in site 1, year 2018\n",
      "Loaded 49 images in site 1, year 2019\n",
      "Completed! Loaded 145 images in total.\n",
      "X shape: (9502720, 80), Y shape: (9502720, 1)\n"
     ]
    }
   ],
   "source": [
    "X_train, Y_train = ML_dataloader(sites=TRAINING_DICT[\"sites\"], years=TRAINING_DICT[\"years\"], type=TRAINING_DICT[\"type\"], verbose=True)\n",
    "print(\"X shape: {x_shape}, Y shape: {y_shape}\".format(x_shape = X_train.shape, y_shape = Y_train.shape))\n",
    "\n",
    "assert(np.any(np.isnan(X_train)) == False and np.any(np.isnan(Y_train)) == False)"
   ]
  },
  {
   "cell_type": "code",
   "execution_count": 5,
   "metadata": {},
   "outputs": [
    {
     "name": "stdout",
     "output_type": "stream",
     "text": [
      "Fitting 5 folds for each of 30 candidates, totalling 150 fits\n"
     ]
    }
   ],
   "source": [
    "Grid_clf = GridSearchCV(estimator=RandomForestClassifier(n_jobs= -1), verbose=3, param_grid=Parameters, n_jobs=-1, cv=5)\n",
    "Grid_clf.fit(X_train, Y_train)"
   ]
  }
 ],
 "metadata": {
  "interpreter": {
   "hash": "ea3abd67aa5f34d81a32ff39bc3300858375c8b18ac46b97fff6466030ecb092"
  },
  "kernelspec": {
   "display_name": "Python 3.9.7 64-bit",
   "language": "python",
   "name": "python3"
  },
  "language_info": {
   "codemirror_mode": {
    "name": "ipython",
    "version": 3
   },
   "file_extension": ".py",
   "mimetype": "text/x-python",
   "name": "python",
   "nbconvert_exporter": "python",
   "pygments_lexer": "ipython3",
   "version": "3.9.7"
  },
  "orig_nbformat": 4
 },
 "nbformat": 4,
 "nbformat_minor": 2
}
