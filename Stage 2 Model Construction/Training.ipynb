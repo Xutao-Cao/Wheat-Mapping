{
 "cells": [
  {
   "cell_type": "code",
   "execution_count": 2,
   "metadata": {},
   "outputs": [
    {
     "name": "stdout",
     "output_type": "stream",
     "text": [
      "The autoreload extension is already loaded. To reload it, use:\n",
      "  %reload_ext autoreload\n"
     ]
    }
   ],
   "source": [
    "import torch\n",
    "from Utils.Dataloader import Satellite_image_dataset\n",
    "from torch.utils.data import DataLoader\n",
    "import numpy as np\n",
    "import matplotlib.pyplot as plt\n",
    "from Models.U_net import U_net\n",
    "from sklearn.metrics import accuracy_score, f1_score, cohen_kappa_score\n",
    "import torch.nn as nn\n",
    "\n",
    "%matplotlib inline\n",
    "%load_ext autoreload\n",
    "%autoreload 2\n"
   ]
  },
  {
   "cell_type": "code",
   "execution_count": null,
   "metadata": {},
   "outputs": [],
   "source": [
    "DEVICE = torch.device(\"cuda:0\" if torch.cuda.is_available() else \"cpu\")"
   ]
  },
  {
   "cell_type": "code",
   "execution_count": 1,
   "metadata": {},
   "outputs": [],
   "source": [
    "def train_net(train_loader, classifier, criterion, optimizer):\n",
    "  classifier.train()\n",
    "  loss_ = 0.0\n",
    "  losses = []\n",
    "  for i, (images, labels) in enumerate(train_loader):\n",
    "      images, labels = images.to(DEVICE), labels.to(DEVICE)\n",
    "      optimizer.zero_grad()\n",
    "      logits = classifier(images)\n",
    "      loss = criterion(logits, labels)\n",
    "      loss.backward()\n",
    "      optimizer.step()\n",
    "      losses.append(loss)\n",
    "  return torch.stack(losses).mean().item()\n",
    "\n",
    "def test_net(test_loader, classifier, criterion,):\n",
    "    classifier.eval()\n",
    "    losses = []\n",
    "    pred_list = []\n",
    "    label_list = []\n",
    "    with torch.no_grad():\n",
    "        for i, (images, labels) in enumerate(test_loader):\n",
    "            images, labels = images.to(DEVICE), labels.to(DEVICE)\n",
    "            logits = classifier(images)\n",
    "            pred = torch.where(torch.sigmoid(logits)>=0.5, 1, 0).cpu().numpy()\n",
    "            pred = np.reshape(pred, (-1,))\n",
    "            labels = np.reshape(labels.cpu().numpy(), (-1,))\n",
    "            label_list.append(labels)\n",
    "            pred_list.append(pred)\n",
    "            loss = criterion(logits, labels)\n",
    "            losses.append(loss.item())\n",
    "        \n",
    "        all_preds = np.concatenate(pred_list)\n",
    "        all_labels = np.concatenate(label_list)\n",
    "        acc = accuracy_score(all_labels, all_preds)\n",
    "        f1 = f1_score(all_labels, all_preds)\n",
    "        coppa = cohen_kappa_score(all_labels, all_preds)\n",
    "        test_loss = np.mean(losses)\n",
    "        print(\"Test result:\\n test_loss: {:.4f}, accuracy: {:.4f}, f1: {:.4f}, coppa: {:.4f}\".format(test_loss, acc, f1, coppa))\n",
    "        \n",
    "    return test_loss, acc, f1, coppa"
   ]
  },
  {
   "cell_type": "code",
   "execution_count": null,
   "metadata": {},
   "outputs": [],
   "source": [
    "def plot_losses(train, val, test_frequency, num_epochs):\n",
    "    plt.plot(train, label=\"train\")\n",
    "    indices = [i for i in range(num_epochs) if ((i+1)%test_frequency == 0 or i ==0)]\n",
    "    plt.plot(indices, val, label=\"val\")\n",
    "    plt.title(\"Loss Plot\")\n",
    "    plt.ylabel(\"Loss\")\n",
    "    plt.xlabel(\"Epoch\")\n",
    "    plt.legend()\n",
    "    plt.show()\n",
    "\n",
    "def plot_acc(train, val, test_frequency, num_epochs):\n",
    "    indices = [i for i in range(num_epochs) if ((i+1)%test_frequency == 0 or i ==0)]\n",
    "    plt.plot(indices, train, label=\"train\")\n",
    "    plt.plot(indices, val, label=\"val\")\n",
    "    plt.title(\"Accuracy Plot\")\n",
    "    plt.ylabel(\"Accuracy\")\n",
    "    plt.xlabel(\"Epoch\")\n",
    "    plt.legend()\n",
    "    plt.show()\n",
    "\n",
    "def plot_f1(train, val, test_frequency, num_epochs):\n",
    "    indices = [i for i in range(num_epochs) if ((i+1)%test_frequency == 0 or i ==0)]\n",
    "    plt.plot(indices, train, label=\"train\")\n",
    "    plt.plot(indices, val, label=\"val\")\n",
    "    plt.title(\"F1 Plot\")\n",
    "    plt.ylabel(\"F1\")\n",
    "    plt.xlabel(\"Epoch\")\n",
    "    plt.legend()\n",
    "    plt.show()"
   ]
  },
  {
   "cell_type": "code",
   "execution_count": null,
   "metadata": {},
   "outputs": [],
   "source": [
    "def train(classifier, num_epochs, train_loader, val_loader, criterion, optimizer, scheduler, test_frequency=5):\n",
    "    train_losses = []\n",
    "    train_accs = []\n",
    "    val_losses = []\n",
    "    val_accs = []\n",
    "    train_f1s =[]\n",
    "    val_f1s = []\n",
    "\n",
    "    for epoch in range(1, num_epochs+1):\n",
    "        print(\"Starting epoch number \" + str(epoch))\n",
    "        train_loss = train_net(train_loader, classifier, criterion, optimizer)\n",
    "        train_losses.append(train_loss)\n",
    "        print(\"Loss for Training on Epoch \" +str(epoch) + \" is \"+ str(train_loss))\n",
    "        if(epoch%test_frequency==0 or epoch==1):\n",
    "            print('Evaluating classifier')\n",
    "            loss_train, acc_train, f1_train, _ = test_net(train_loader, classifier, criterion)\n",
    "            train_accs.append(acc_train)\n",
    "            train_f1s.append(f1_train)\n",
    "            loss_test, acc_test, f1_test, _ = test_net(val_loader, classifier, criterion)\n",
    "            val_losses.append(loss_test)\n",
    "            val_accs.append(acc_test)\n",
    "            val_f1s.append(f1_test)\n",
    "        scheduler.step(train_loss)\n",
    "    \n",
    "    return classifier, train_losses, val_losses, train_accs, val_accs, train_f1s, val_f1s"
   ]
  },
  {
   "cell_type": "code",
   "execution_count": null,
   "metadata": {},
   "outputs": [],
   "source": [
    "batch_size = 8\n",
    "learning_rate = 1e-3\n",
    "weight_decay = 1e-4"
   ]
  },
  {
   "cell_type": "code",
   "execution_count": null,
   "metadata": {},
   "outputs": [],
   "source": [
    "Train_data = Satellite_image_dataset(sites=[1,], years=[2017,2018,2019,], type='Both')\n",
    "Train_dataloader = DataLoader(Train_data, batch_size, shuffle = False)\n",
    "Test_data = Satellite_image_dataset(sites=[1,], years = [2020, ], type='Both' )\n",
    "Test_dataloader = DataLoader(Test_data, batch_size, shuffle = False)"
   ]
  },
  {
   "cell_type": "code",
   "execution_count": null,
   "metadata": {},
   "outputs": [],
   "source": [
    "net = U_net(80, 1).to(DEVICE)\n",
    "criteria = nn.BCEWithLogitsLoss()\n",
    "optimizer = torch.optim.Adam(net.parameters(), learning_rate, weight_decay)\n",
    "scheduler = torch.optim.lr_scheduler.ReduceLROnPlateau(optimizer=optimizer, factor = 0.25, patience = 5, mode='min', verbose=True)"
   ]
  }
 ],
 "metadata": {
  "interpreter": {
   "hash": "ea3abd67aa5f34d81a32ff39bc3300858375c8b18ac46b97fff6466030ecb092"
  },
  "kernelspec": {
   "display_name": "Python 3.9.0 64-bit",
   "name": "python3"
  },
  "language_info": {
   "codemirror_mode": {
    "name": "ipython",
    "version": 3
   },
   "file_extension": ".py",
   "mimetype": "text/x-python",
   "name": "python",
   "nbconvert_exporter": "python",
   "pygments_lexer": "ipython3",
   "version": "3.9.7"
  },
  "orig_nbformat": 4
 },
 "nbformat": 4,
 "nbformat_minor": 2
}
