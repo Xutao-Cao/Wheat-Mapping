{
 "cells": [
  {
   "cell_type": "code",
   "execution_count": 3,
   "metadata": {},
   "outputs": [],
   "source": [
    "import os\n",
    "from osgeo import gdal\n",
    "import sys\n",
    "import numpy as np"
   ]
  },
  {
   "cell_type": "code",
   "execution_count": 4,
   "metadata": {},
   "outputs": [
    {
     "name": "stdout",
     "output_type": "stream",
     "text": [
      "site:0, year:2017, shape:(1095, 1352), wheat ratio:0.3147\n",
      "site:0, year:2018, shape:(1095, 1352), wheat ratio:0.2801\n",
      "site:0, year:2019, shape:(1095, 1352), wheat ratio:0.2887\n",
      "site:0, year:2020, shape:(1095, 1352), wheat ratio:0.2427\n",
      "site:1, year:2017, shape:(1979, 1999), wheat ratio:0.4173\n",
      "site:1, year:2018, shape:(1979, 1999), wheat ratio:0.3840\n",
      "site:1, year:2019, shape:(1979, 1999), wheat ratio:0.3802\n",
      "site:1, year:2020, shape:(1979, 1999), wheat ratio:0.3601\n",
      "site:2, year:2017, shape:(1915, 2190), wheat ratio:0.2733\n",
      "site:2, year:2018, shape:(1915, 2190), wheat ratio:0.3101\n",
      "site:2, year:2019, shape:(1915, 2190), wheat ratio:0.3214\n",
      "site:2, year:2020, shape:(1915, 2190), wheat ratio:0.2030\n",
      "site:3, year:2017, shape:(1898, 1915), wheat ratio:0.4013\n",
      "site:3, year:2018, shape:(1898, 1915), wheat ratio:0.2983\n",
      "site:3, year:2019, shape:(1898, 1915), wheat ratio:0.3584\n",
      "site:3, year:2020, shape:(1898, 1915), wheat ratio:0.3716\n",
      "site:4, year:2017, shape:(1959, 2077), wheat ratio:0.2002\n",
      "site:4, year:2018, shape:(1959, 2077), wheat ratio:0.2119\n",
      "site:4, year:2019, shape:(1959, 2077), wheat ratio:0.1729\n",
      "site:4, year:2020, shape:(1959, 2077), wheat ratio:0.1882\n",
      "site:5, year:2017, shape:(2437, 2464), wheat ratio:0.2312\n",
      "site:5, year:2018, shape:(2437, 2464), wheat ratio:0.2414\n",
      "site:5, year:2019, shape:(2437, 2464), wheat ratio:0.1864\n",
      "site:5, year:2020, shape:(2437, 2464), wheat ratio:0.2378\n",
      "site:6, year:2017, shape:(1963, 1877), wheat ratio:0.1153\n",
      "site:6, year:2018, shape:(1963, 1877), wheat ratio:0.1434\n",
      "site:6, year:2019, shape:(1963, 1877), wheat ratio:0.0877\n",
      "site:6, year:2020, shape:(1963, 1877), wheat ratio:0.1114\n",
      "site:7, year:2017, shape:(1706, 1942), wheat ratio:0.4489\n",
      "site:7, year:2018, shape:(1706, 1942), wheat ratio:0.4476\n",
      "site:7, year:2019, shape:(1706, 1942), wheat ratio:0.4433\n",
      "site:7, year:2020, shape:(1706, 1942), wheat ratio:0.4427\n",
      "site:8, year:2017, shape:(2350, 2467), wheat ratio:0.3450\n",
      "site:8, year:2018, shape:(2350, 2467), wheat ratio:0.3236\n",
      "site:8, year:2019, shape:(2350, 2467), wheat ratio:0.3261\n",
      "site:8, year:2020, shape:(2350, 2467), wheat ratio:0.3583\n",
      "site:9, year:2017, shape:(1836, 1732), wheat ratio:0.4499\n",
      "site:9, year:2018, shape:(1836, 1732), wheat ratio:0.4425\n",
      "site:9, year:2019, shape:(1836, 1732), wheat ratio:0.4250\n",
      "site:9, year:2020, shape:(1836, 1732), wheat ratio:0.4153\n"
     ]
    }
   ],
   "source": [
    "base_path = os.path.join(\"D:\\\\\",\"Graduation_Thesis_Dataset\")\n",
    "S1_path = os.path.join(base_path, \"S1_dataset\")\n",
    "L8_path = os.path.join(base_path, \"L8_dataset\")\n",
    "years = [2017, 2018, 2019, 2020]\n",
    "site_range = [0, 1, 2, 3, 4, 5, 6, 7, 8, 9]\n",
    "satellites = ['S1',]\n",
    "for satellite in satellites:\n",
    "  cur_path = None\n",
    "  if satellite == 'Landsat_8':\n",
    "    cur_path = L8_path\n",
    "  elif satellite == 'S1':\n",
    "    cur_path = S1_path\n",
    "  for site in site_range:\n",
    "    # print(cur_path)\n",
    "    site_path = os.path.join(cur_path,  str(site))\n",
    "    # print(cur_path)\n",
    "    for year in years:\n",
    "      year_path = os.path.join(site_path,str(year))\n",
    "      cdlpath = \"CDL_\" + str(site) + '_' + str(year) + '.npy'\n",
    "      cdlpath = os.path.join(year_path, cdlpath)\n",
    "      new_img = np.load(cdlpath)\n",
    "      w = np.count_nonzero(new_img == 1)\n",
    "      wheat_ratio = w/(new_img.shape[0]*new_img.shape[1])\n",
    "      print(\"site:{}, year:{}, shape:{}, wheat ratio:{:.4f}\".format(site, year, new_img.shape, wheat_ratio))\n",
    "\n"
   ]
  }
 ],
 "metadata": {
  "interpreter": {
   "hash": "ea3abd67aa5f34d81a32ff39bc3300858375c8b18ac46b97fff6466030ecb092"
  },
  "kernelspec": {
   "display_name": "Python 3.9.7 64-bit",
   "language": "python",
   "name": "python3"
  },
  "language_info": {
   "codemirror_mode": {
    "name": "ipython",
    "version": 3
   },
   "file_extension": ".py",
   "mimetype": "text/x-python",
   "name": "python",
   "nbconvert_exporter": "python",
   "pygments_lexer": "ipython3",
   "version": "3.9.7"
  },
  "orig_nbformat": 4
 },
 "nbformat": 4,
 "nbformat_minor": 2
}
