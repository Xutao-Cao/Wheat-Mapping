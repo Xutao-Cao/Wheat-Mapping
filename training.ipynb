{
 "metadata": {
  "language_info": {
   "codemirror_mode": {
    "name": "ipython",
    "version": 3
   },
   "file_extension": ".py",
   "mimetype": "text/x-python",
   "name": "python",
   "nbconvert_exporter": "python",
   "pygments_lexer": "ipython3",
   "version": 3
  },
  "orig_nbformat": 2
 },
 "nbformat": 4,
 "nbformat_minor": 2,
 "cells": [
  {
   "cell_type": "code",
   "execution_count": null,
   "metadata": {},
   "outputs": [],
   "source": [
    "# !nvidia-smi"
   ]
  },
  {
   "cell_type": "code",
   "execution_count": null,
   "metadata": {},
   "outputs": [],
   "source": [
    "import torch\n",
    "import torch.nn as nn\n",
    "import numpy as np\n",
    "import sys\n",
    "# module_path=\"D:\\\\Tony\\\\SRTP\\\\WheatMappingModel\"\n",
    "# sys.path.append(\"D:\\\\Tony\\\\SRTP\\\\WheatMappingModel\") \n",
    "sys.path.append(\"/content/drive/MyDrive/WheatMappingModel\")\n",
    "from logger import PrettyLogger\n",
    "from helper import WMMhelper"
   ]
  },
  {
   "cell_type": "code",
   "execution_count": null,
   "metadata": {},
   "outputs": [],
   "source": [
    "logger = PrettyLogger()\n",
    "helper = WMMhelper()\n",
    "DEVICE = torch.device(\"cuda:0\")"
   ]
  },
  {
   "cell_type": "code",
   "execution_count": null,
   "metadata": {},
   "outputs": [],
   "source": [
    "path_template = \"/content/drive/MyDrive/SRTP_Datasets/DatasetsForWMM\"\n",
    "def get_path(years, locations):\n",
    "    x_path_list = []\n",
    "    y_path_list = []\n",
    "    for location in locations:\n",
    "        for year in years:\n",
    "            for i in range(1, 201):\n",
    "                x_path = path_template + \"/\" + str(location) + \"/\" + str(year) + \"/\" + \"x\"+str(i)+\".npy\"\n",
    "                y_path = path_template + \"/\" + str(location) + \"/\" + str(year) + \"/\" + \"y\"+str(i)+\".npy\"\n",
    "                x_path_list.append(x_path)\n",
    "                y_path_list.append(y_path)\n",
    "    return x_path_list, y_path_list"
   ]
  },
  {
   "cell_type": "code",
   "execution_count": null,
   "metadata": {},
   "outputs": [],
   "source": [
    "x_train_path, y_train_path = get_path([2015,2016,2017,2018],[20191])\n",
    "x_test_path, y_test_path = get_path([2019],[20191])\n",
    "x_train = helper.input_x(x_train_path)\n",
    "y_train = helper.input_y(y_train_path)\n",
    "x_test = helper.input_x(x_test_path)\n",
    "y_test = helper.input_y(y_test_path)\n",
    "N_num = (y_train == 0).sum()\n",
    "P_num = (y_train == 1).sum()\n",
    "cur_pos_weight = N_num/P_num\n",
    "helper.criterion = nn.BCEWithLogitsLoss(reduction='mean', pos_weight= cur_pos_weight)\n",
    "print(cur_pos_weight)\n",
    "print(x_train.shape)\n",
    "print(y_train.shape)\n",
    "print(x_test.shape)\n",
    "print(y_test.shape)"
   ]
  },
  {
   "cell_type": "code",
   "execution_count": null,
   "metadata": {},
   "outputs": [],
   "source": [
    "# x_train, x_test = helper.normalize(x_train, x_test)\n",
    "# print(x_train.shape)"
   ]
  },
  {
   "cell_type": "code",
   "execution_count": null,
   "metadata": {},
   "outputs": [],
   "source": [
    "train_dataloader = helper.make_dataloader(x_train, y_train)\n",
    "test_dataloader = helper.make_dataloader(x_test, y_test)\n",
    "print(train_dataloader)\n",
    "print(len(train_dataloader.dataset))"
   ]
  },
  {
   "cell_type": "code",
   "execution_count": null,
   "metadata": {},
   "outputs": [],
   "source": [
    "net = helper.build_model()\n",
    "net.to(DEVICE)\n",
    "helper.train_model(net, train_dataloader, test_dataloader, DEVICE, logger)"
   ]
  }
 ]
}