{
 "cells": [
  {
   "cell_type": "markdown",
   "metadata": {},
   "source": [
    "# Preprocessing"
   ]
  },
  {
   "cell_type": "markdown",
   "metadata": {},
   "source": [
    "## Step 1: Check missing images"
   ]
  },
  {
   "cell_type": "code",
   "execution_count": 1,
   "metadata": {},
   "outputs": [],
   "source": [
    "import os.path\n",
    "from datetime import date\n",
    "import datetime\n"
   ]
  },
  {
   "cell_type": "code",
   "execution_count": 2,
   "metadata": {},
   "outputs": [],
   "source": [
    "base_path = os.path.join(\"D:\",\"Graduation_Thesis_Dataset\")\n",
    "S1_path = os.path.join(base_path, \"S1_dataset\")\n",
    "L8_path = os.path.join(base_path, \"L8_dataset\")"
   ]
  },
  {
   "cell_type": "code",
   "execution_count": 3,
   "metadata": {},
   "outputs": [],
   "source": [
    "years = [2017, 2018, 2019, 2020]\n",
    "site_range = [1, 2, 3, 4, 5, 6]\n",
    "satellites = ['Landsat_8', 'S1']\n",
    "Missing_image_paths = []\n",
    "valid_image_paths = []\n",
    "cdl_paths = []\n",
    "for satellite in satellites:\n",
    "  cur_path = None\n",
    "  if satellite == 'Landsat_8':\n",
    "    cur_path = L8_path\n",
    "  elif satellite == 'S1':\n",
    "    cur_path = S1_path\n",
    "  for site in site_range:\n",
    "    # print(cur_path)\n",
    "    site_path = os.path.join(cur_path,  str(site))\n",
    "    # print(cur_path)\n",
    "    for year in years:\n",
    "      year_path = os.path.join(site_path,str(year))\n",
    "      cdlpath = \"CDL_\" + str(site) + '_' + str(year) + '.tif'\n",
    "      cdlpath = os.path.join(year_path, cdlpath)\n",
    "      if os.path.isfile(cdlpath):\n",
    "        cdl_paths.append(cdlpath)\n",
    "      start_date = date(year, 9, 10)\n",
    "      for advancement in range(0, 12):\n",
    "        cur_time = start_date + datetime.timedelta(days=advancement*24)\n",
    "        cur_time_str = cur_time.strftime(\"%Y%m%d\")\n",
    "        image_path = os.path.join(year_path, satellite + '_' + str(site) + '_'+ cur_time_str + '.tif')\n",
    "        if os.path.isfile(image_path):\n",
    "          valid_image_paths.append(image_path)\n",
    "        else:\n",
    "          Missing_image_paths.append(image_path)\n",
    "    \n",
    "\n"
   ]
  },
  {
   "cell_type": "code",
   "execution_count": 4,
   "metadata": {},
   "outputs": [
    {
     "name": "stdout",
     "output_type": "stream",
     "text": [
      "Valid images:  572\n"
     ]
    }
   ],
   "source": [
    "print('Valid images: ', len(valid_image_paths))"
   ]
  },
  {
   "cell_type": "code",
   "execution_count": 5,
   "metadata": {},
   "outputs": [
    {
     "name": "stdout",
     "output_type": "stream",
     "text": [
      "Missing images:  4\n",
      "['D:Graduation_Thesis_Dataset\\\\S1_dataset\\\\3\\\\2017\\\\S1_3_20171004.tif', 'D:Graduation_Thesis_Dataset\\\\S1_dataset\\\\5\\\\2017\\\\S1_5_20171004.tif', 'D:Graduation_Thesis_Dataset\\\\S1_dataset\\\\5\\\\2017\\\\S1_5_20171028.tif', 'D:Graduation_Thesis_Dataset\\\\S1_dataset\\\\5\\\\2018\\\\S1_5_20181215.tif']\n"
     ]
    }
   ],
   "source": [
    "print('Missing images: ', len(Missing_image_paths))\n",
    "print(Missing_image_paths)\n",
    "testpath = Missing_image_paths[0]\n"
   ]
  },
  {
   "cell_type": "markdown",
   "metadata": {},
   "source": [
    "## Step 2 Fill in Nan Values"
   ]
  },
  {
   "cell_type": "code",
   "execution_count": 6,
   "metadata": {},
   "outputs": [],
   "source": [
    "import cv2 as cv\n",
    "from osgeo import gdal\n",
    "from tqdm import tqdm\n",
    "from sklearn.impute import KNNImputer\n",
    "import numpy as np\n",
    "import sys\n",
    "np.set_printoptions(threshold=sys.maxsize)"
   ]
  },
  {
   "cell_type": "code",
   "execution_count": 15,
   "metadata": {},
   "outputs": [],
   "source": [
    "def replace_nan(image, threshold = 6, window = 5):\n",
    "  x = image.shape[0]\n",
    "  y = image.shape[1]\n",
    "  for i in range (2, x - 2):\n",
    "    for j in range(2, y - 2):\n",
    "      if not np.isnan(image[i, j]):\n",
    "        continue\n",
    "      img_window = image[i-2:i+3, j-2:j+3]\n",
    "      if np.count_nonzero(np.isnan(img_window)) > threshold:\n",
    "        continue\n",
    "      mean = np.nanmean(img_window)\n",
    "      std = np.nanstd(img_window)\n",
    "      image[i, j] = np.random.normal(mean, std)\n",
    "  return image"
   ]
  },
  {
   "cell_type": "code",
   "execution_count": 21,
   "metadata": {},
   "outputs": [
    {
     "name": "stderr",
     "output_type": "stream",
     "text": [
      "100%|██████████| 572/572 [3:47:04<00:00, 23.82s/it]  "
     ]
    },
    {
     "name": "stdout",
     "output_type": "stream",
     "text": [
      "['D:Graduation_Thesis_Dataset\\\\L8_dataset\\\\1\\\\2018\\\\Landsat_8_1_20180910.tif', 'D:Graduation_Thesis_Dataset\\\\L8_dataset\\\\1\\\\2018\\\\Landsat_8_1_20180910.tif', 'D:Graduation_Thesis_Dataset\\\\L8_dataset\\\\1\\\\2018\\\\Landsat_8_1_20180910.tif', 'D:Graduation_Thesis_Dataset\\\\L8_dataset\\\\1\\\\2018\\\\Landsat_8_1_20180910.tif', 'D:Graduation_Thesis_Dataset\\\\L8_dataset\\\\1\\\\2018\\\\Landsat_8_1_20180910.tif', 'D:Graduation_Thesis_Dataset\\\\L8_dataset\\\\1\\\\2018\\\\Landsat_8_1_20180910.tif', 'D:Graduation_Thesis_Dataset\\\\L8_dataset\\\\1\\\\2018\\\\Landsat_8_1_20180910.tif', 'D:Graduation_Thesis_Dataset\\\\L8_dataset\\\\1\\\\2019\\\\Landsat_8_1_20200108.tif', 'D:Graduation_Thesis_Dataset\\\\L8_dataset\\\\1\\\\2019\\\\Landsat_8_1_20200108.tif', 'D:Graduation_Thesis_Dataset\\\\L8_dataset\\\\1\\\\2019\\\\Landsat_8_1_20200108.tif', 'D:Graduation_Thesis_Dataset\\\\L8_dataset\\\\1\\\\2019\\\\Landsat_8_1_20200108.tif', 'D:Graduation_Thesis_Dataset\\\\L8_dataset\\\\1\\\\2019\\\\Landsat_8_1_20200108.tif', 'D:Graduation_Thesis_Dataset\\\\L8_dataset\\\\1\\\\2019\\\\Landsat_8_1_20200108.tif', 'D:Graduation_Thesis_Dataset\\\\L8_dataset\\\\1\\\\2019\\\\Landsat_8_1_20200108.tif', 'D:Graduation_Thesis_Dataset\\\\L8_dataset\\\\1\\\\2020\\\\Landsat_8_1_20210108.tif', 'D:Graduation_Thesis_Dataset\\\\L8_dataset\\\\1\\\\2020\\\\Landsat_8_1_20210108.tif', 'D:Graduation_Thesis_Dataset\\\\L8_dataset\\\\1\\\\2020\\\\Landsat_8_1_20210108.tif', 'D:Graduation_Thesis_Dataset\\\\L8_dataset\\\\1\\\\2020\\\\Landsat_8_1_20210108.tif', 'D:Graduation_Thesis_Dataset\\\\L8_dataset\\\\1\\\\2020\\\\Landsat_8_1_20210108.tif', 'D:Graduation_Thesis_Dataset\\\\L8_dataset\\\\1\\\\2020\\\\Landsat_8_1_20210108.tif', 'D:Graduation_Thesis_Dataset\\\\L8_dataset\\\\1\\\\2020\\\\Landsat_8_1_20210108.tif', 'D:Graduation_Thesis_Dataset\\\\L8_dataset\\\\1\\\\2020\\\\Landsat_8_1_20210201.tif', 'D:Graduation_Thesis_Dataset\\\\L8_dataset\\\\1\\\\2020\\\\Landsat_8_1_20210201.tif', 'D:Graduation_Thesis_Dataset\\\\L8_dataset\\\\1\\\\2020\\\\Landsat_8_1_20210201.tif', 'D:Graduation_Thesis_Dataset\\\\L8_dataset\\\\1\\\\2020\\\\Landsat_8_1_20210201.tif', 'D:Graduation_Thesis_Dataset\\\\L8_dataset\\\\1\\\\2020\\\\Landsat_8_1_20210201.tif', 'D:Graduation_Thesis_Dataset\\\\L8_dataset\\\\1\\\\2020\\\\Landsat_8_1_20210201.tif', 'D:Graduation_Thesis_Dataset\\\\L8_dataset\\\\1\\\\2020\\\\Landsat_8_1_20210201.tif', 'D:Graduation_Thesis_Dataset\\\\L8_dataset\\\\1\\\\2020\\\\Landsat_8_1_20210508.tif', 'D:Graduation_Thesis_Dataset\\\\L8_dataset\\\\1\\\\2020\\\\Landsat_8_1_20210508.tif', 'D:Graduation_Thesis_Dataset\\\\L8_dataset\\\\1\\\\2020\\\\Landsat_8_1_20210508.tif', 'D:Graduation_Thesis_Dataset\\\\L8_dataset\\\\1\\\\2020\\\\Landsat_8_1_20210508.tif', 'D:Graduation_Thesis_Dataset\\\\L8_dataset\\\\1\\\\2020\\\\Landsat_8_1_20210508.tif', 'D:Graduation_Thesis_Dataset\\\\L8_dataset\\\\1\\\\2020\\\\Landsat_8_1_20210508.tif', 'D:Graduation_Thesis_Dataset\\\\L8_dataset\\\\1\\\\2020\\\\Landsat_8_1_20210508.tif', 'D:Graduation_Thesis_Dataset\\\\L8_dataset\\\\3\\\\2017\\\\Landsat_8_3_20171215.tif', 'D:Graduation_Thesis_Dataset\\\\L8_dataset\\\\3\\\\2017\\\\Landsat_8_3_20171215.tif', 'D:Graduation_Thesis_Dataset\\\\L8_dataset\\\\3\\\\2017\\\\Landsat_8_3_20171215.tif', 'D:Graduation_Thesis_Dataset\\\\L8_dataset\\\\3\\\\2017\\\\Landsat_8_3_20171215.tif', 'D:Graduation_Thesis_Dataset\\\\L8_dataset\\\\3\\\\2017\\\\Landsat_8_3_20171215.tif', 'D:Graduation_Thesis_Dataset\\\\L8_dataset\\\\3\\\\2017\\\\Landsat_8_3_20171215.tif', 'D:Graduation_Thesis_Dataset\\\\L8_dataset\\\\3\\\\2017\\\\Landsat_8_3_20171215.tif', 'D:Graduation_Thesis_Dataset\\\\L8_dataset\\\\3\\\\2018\\\\Landsat_8_3_20190414.tif', 'D:Graduation_Thesis_Dataset\\\\L8_dataset\\\\3\\\\2018\\\\Landsat_8_3_20190414.tif', 'D:Graduation_Thesis_Dataset\\\\L8_dataset\\\\3\\\\2018\\\\Landsat_8_3_20190414.tif', 'D:Graduation_Thesis_Dataset\\\\L8_dataset\\\\3\\\\2018\\\\Landsat_8_3_20190414.tif', 'D:Graduation_Thesis_Dataset\\\\L8_dataset\\\\3\\\\2018\\\\Landsat_8_3_20190414.tif', 'D:Graduation_Thesis_Dataset\\\\L8_dataset\\\\3\\\\2018\\\\Landsat_8_3_20190414.tif', 'D:Graduation_Thesis_Dataset\\\\L8_dataset\\\\3\\\\2018\\\\Landsat_8_3_20190414.tif', 'D:Graduation_Thesis_Dataset\\\\L8_dataset\\\\5\\\\2017\\\\Landsat_8_5_20171028.tif', 'D:Graduation_Thesis_Dataset\\\\L8_dataset\\\\5\\\\2017\\\\Landsat_8_5_20171028.tif', 'D:Graduation_Thesis_Dataset\\\\L8_dataset\\\\5\\\\2017\\\\Landsat_8_5_20171028.tif', 'D:Graduation_Thesis_Dataset\\\\L8_dataset\\\\5\\\\2017\\\\Landsat_8_5_20171028.tif', 'D:Graduation_Thesis_Dataset\\\\L8_dataset\\\\5\\\\2017\\\\Landsat_8_5_20171028.tif', 'D:Graduation_Thesis_Dataset\\\\L8_dataset\\\\5\\\\2017\\\\Landsat_8_5_20171028.tif', 'D:Graduation_Thesis_Dataset\\\\L8_dataset\\\\5\\\\2017\\\\Landsat_8_5_20171028.tif', 'D:Graduation_Thesis_Dataset\\\\L8_dataset\\\\5\\\\2018\\\\Landsat_8_5_20190225.tif', 'D:Graduation_Thesis_Dataset\\\\L8_dataset\\\\5\\\\2018\\\\Landsat_8_5_20190225.tif', 'D:Graduation_Thesis_Dataset\\\\L8_dataset\\\\5\\\\2018\\\\Landsat_8_5_20190225.tif', 'D:Graduation_Thesis_Dataset\\\\L8_dataset\\\\5\\\\2018\\\\Landsat_8_5_20190225.tif', 'D:Graduation_Thesis_Dataset\\\\L8_dataset\\\\5\\\\2018\\\\Landsat_8_5_20190225.tif', 'D:Graduation_Thesis_Dataset\\\\L8_dataset\\\\5\\\\2018\\\\Landsat_8_5_20190225.tif', 'D:Graduation_Thesis_Dataset\\\\L8_dataset\\\\5\\\\2018\\\\Landsat_8_5_20190225.tif', 'D:Graduation_Thesis_Dataset\\\\L8_dataset\\\\6\\\\2017\\\\Landsat_8_6_20180225.tif', 'D:Graduation_Thesis_Dataset\\\\L8_dataset\\\\6\\\\2017\\\\Landsat_8_6_20180225.tif', 'D:Graduation_Thesis_Dataset\\\\L8_dataset\\\\6\\\\2017\\\\Landsat_8_6_20180225.tif', 'D:Graduation_Thesis_Dataset\\\\L8_dataset\\\\6\\\\2017\\\\Landsat_8_6_20180225.tif', 'D:Graduation_Thesis_Dataset\\\\L8_dataset\\\\6\\\\2017\\\\Landsat_8_6_20180225.tif', 'D:Graduation_Thesis_Dataset\\\\L8_dataset\\\\6\\\\2017\\\\Landsat_8_6_20180225.tif', 'D:Graduation_Thesis_Dataset\\\\L8_dataset\\\\6\\\\2017\\\\Landsat_8_6_20180225.tif', 'D:Graduation_Thesis_Dataset\\\\L8_dataset\\\\6\\\\2018\\\\Landsat_8_6_20190321.tif', 'D:Graduation_Thesis_Dataset\\\\L8_dataset\\\\6\\\\2018\\\\Landsat_8_6_20190321.tif', 'D:Graduation_Thesis_Dataset\\\\L8_dataset\\\\6\\\\2018\\\\Landsat_8_6_20190321.tif', 'D:Graduation_Thesis_Dataset\\\\L8_dataset\\\\6\\\\2018\\\\Landsat_8_6_20190321.tif', 'D:Graduation_Thesis_Dataset\\\\L8_dataset\\\\6\\\\2018\\\\Landsat_8_6_20190321.tif', 'D:Graduation_Thesis_Dataset\\\\L8_dataset\\\\6\\\\2018\\\\Landsat_8_6_20190321.tif', 'D:Graduation_Thesis_Dataset\\\\L8_dataset\\\\6\\\\2018\\\\Landsat_8_6_20190321.tif', 'D:Graduation_Thesis_Dataset\\\\L8_dataset\\\\6\\\\2018\\\\Landsat_8_6_20190414.tif', 'D:Graduation_Thesis_Dataset\\\\L8_dataset\\\\6\\\\2018\\\\Landsat_8_6_20190414.tif', 'D:Graduation_Thesis_Dataset\\\\L8_dataset\\\\6\\\\2018\\\\Landsat_8_6_20190414.tif', 'D:Graduation_Thesis_Dataset\\\\L8_dataset\\\\6\\\\2018\\\\Landsat_8_6_20190414.tif', 'D:Graduation_Thesis_Dataset\\\\L8_dataset\\\\6\\\\2018\\\\Landsat_8_6_20190414.tif', 'D:Graduation_Thesis_Dataset\\\\L8_dataset\\\\6\\\\2018\\\\Landsat_8_6_20190414.tif', 'D:Graduation_Thesis_Dataset\\\\L8_dataset\\\\6\\\\2018\\\\Landsat_8_6_20190414.tif', 'D:Graduation_Thesis_Dataset\\\\S1_dataset\\\\2\\\\2017\\\\S1_2_20170910.tif', 'D:Graduation_Thesis_Dataset\\\\S1_dataset\\\\2\\\\2017\\\\S1_2_20170910.tif', 'D:Graduation_Thesis_Dataset\\\\S1_dataset\\\\2\\\\2017\\\\S1_2_20170910.tif']\n"
     ]
    },
    {
     "name": "stderr",
     "output_type": "stream",
     "text": [
      "\n"
     ]
    }
   ],
   "source": [
    "NAN_image_path = []\n",
    "for path in tqdm(valid_image_paths):\n",
    "  new_img = gdal.Open(path)\n",
    "  band_cnt = new_img.RasterCount\n",
    "  channel_list = []\n",
    "  is_nan_too_much = False\n",
    "  for b in range(1, band_cnt + 1):\n",
    "    img_array = np.array(new_img.GetRasterBand(b).ReadAsArray())\n",
    "    nan_percent = np.count_nonzero(np.isnan(img_array)) / (img_array.shape[0]*img_array.shape[1])\n",
    "    # print('before: ',nan_percent)\n",
    "    if nan_percent > 0.3:\n",
    "      is_nan_too_much = True\n",
    "      NAN_image_path.append(path)\n",
    "    img_array = replace_nan(img_array)\n",
    "    nan_percent = np.count_nonzero(np.isnan(img_array)) / (img_array.shape[0]*img_array.shape[1])\n",
    "    # print('after: ',nan_percent)\n",
    "    channel_list.append(img_array)\n",
    "  if is_nan_too_much:\n",
    "    NAN_image_path.append(path)\n",
    "    continue\n",
    "  output = np.moveaxis(np.stack(channel_list, axis=0), 0, -1)\n",
    "  output_path = path.replace('.tif', '.npy')\n",
    "  # print(output_path)\n",
    "  # print(output.shape)\n",
    "  np.save(output_path, output)\n",
    "print(NAN_image_path)\n",
    "\n",
    "\n"
   ]
  },
  {
   "cell_type": "code",
   "execution_count": 22,
   "metadata": {},
   "outputs": [
    {
     "name": "stdout",
     "output_type": "stream",
     "text": [
      "{'D:Graduation_Thesis_Dataset\\\\L8_dataset\\\\3\\\\2017\\\\Landsat_8_3_20171215.tif', 'D:Graduation_Thesis_Dataset\\\\L8_dataset\\\\6\\\\2017\\\\Landsat_8_6_20180225.tif', 'D:Graduation_Thesis_Dataset\\\\L8_dataset\\\\6\\\\2018\\\\Landsat_8_6_20190414.tif', 'D:Graduation_Thesis_Dataset\\\\L8_dataset\\\\1\\\\2020\\\\Landsat_8_1_20210508.tif', 'D:Graduation_Thesis_Dataset\\\\L8_dataset\\\\6\\\\2018\\\\Landsat_8_6_20190321.tif', 'D:Graduation_Thesis_Dataset\\\\L8_dataset\\\\3\\\\2018\\\\Landsat_8_3_20190414.tif', 'D:Graduation_Thesis_Dataset\\\\L8_dataset\\\\1\\\\2018\\\\Landsat_8_1_20180910.tif', 'D:Graduation_Thesis_Dataset\\\\L8_dataset\\\\1\\\\2020\\\\Landsat_8_1_20210108.tif', 'D:Graduation_Thesis_Dataset\\\\L8_dataset\\\\5\\\\2018\\\\Landsat_8_5_20190225.tif', 'D:Graduation_Thesis_Dataset\\\\S1_dataset\\\\2\\\\2017\\\\S1_2_20170910.tif', 'D:Graduation_Thesis_Dataset\\\\L8_dataset\\\\1\\\\2020\\\\Landsat_8_1_20210201.tif', 'D:Graduation_Thesis_Dataset\\\\L8_dataset\\\\1\\\\2019\\\\Landsat_8_1_20200108.tif', 'D:Graduation_Thesis_Dataset\\\\L8_dataset\\\\5\\\\2017\\\\Landsat_8_5_20171028.tif'}\n"
     ]
    }
   ],
   "source": [
    "Nan_paths = set(NAN_image_path)\n",
    "print(Nan_paths)"
   ]
  }
 ],
 "metadata": {
  "interpreter": {
   "hash": "ea3abd67aa5f34d81a32ff39bc3300858375c8b18ac46b97fff6466030ecb092"
  },
  "kernelspec": {
   "display_name": "Python 3.9.7 64-bit",
   "language": "python",
   "name": "python3"
  },
  "language_info": {
   "codemirror_mode": {
    "name": "ipython",
    "version": 3
   },
   "file_extension": ".py",
   "mimetype": "text/x-python",
   "name": "python",
   "nbconvert_exporter": "python",
   "pygments_lexer": "ipython3",
   "version": "3.9.7"
  },
  "orig_nbformat": 4
 },
 "nbformat": 4,
 "nbformat_minor": 2
}
